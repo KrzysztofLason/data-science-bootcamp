{
  "nbformat": 4,
  "nbformat_minor": 0,
  "metadata": {
    "colab": {
      "name": "Algebra Liniowa.ipynb",
      "provenance": [],
      "collapsed_sections": [],
      "toc_visible": true,
      "authorship_tag": "ABX9TyP8ird5Xf5uBQo9dL9CHYnd",
      "include_colab_link": true
    },
    "kernelspec": {
      "name": "python3",
      "display_name": "Python 3"
    }
  },
  "cells": [
    {
      "cell_type": "markdown",
      "metadata": {
        "id": "view-in-github",
        "colab_type": "text"
      },
      "source": [
        "<a href=\"https://colab.research.google.com/github/KrzysztofLason/data-science-bootcamp/blob/master/Algebra_Liniowa.ipynb\" target=\"_parent\"><img src=\"https://colab.research.google.com/assets/colab-badge.svg\" alt=\"Open In Colab\"/></a>"
      ]
    },
    {
      "cell_type": "code",
      "metadata": {
        "id": "2Xrh-bKTMqYr",
        "colab_type": "code",
        "colab": {}
      },
      "source": [
        ""
      ],
      "execution_count": 0,
      "outputs": []
    },
    {
      "cell_type": "markdown",
      "metadata": {
        "id": "ddn5XUe4MvD9",
        "colab_type": "text"
      },
      "source": [
        "# Norma Wektora, długość wektora w R*2\n",
        "w = [v1, v2]\n",
        "Wektor ma początek i koniec i opisuje nam kierunek. Mamy dwie współrzędne\n",
        "Norma wektora = pierwiastek z kwadratów sumy współrzędnych wektora.\n",
        "Odgległość euklidesowa od środka układu współrzędnych = pierwiastek z v1*2 + v2*2"
      ]
    },
    {
      "cell_type": "code",
      "metadata": {
        "id": "dWqjjGDPNGgq",
        "colab_type": "code",
        "outputId": "256efc6b-9c98-4a38-af75-219c94d5a460",
        "colab": {
          "base_uri": "https://localhost:8080/",
          "height": 35
        }
      },
      "source": [
        "import numpy as np\n",
        "np.__version__"
      ],
      "execution_count": 0,
      "outputs": [
        {
          "output_type": "execute_result",
          "data": {
            "text/plain": [
              "'1.18.3'"
            ]
          },
          "metadata": {
            "tags": []
          },
          "execution_count": 1
        }
      ]
    },
    {
      "cell_type": "code",
      "metadata": {
        "id": "70WU4lXvN4iJ",
        "colab_type": "code",
        "outputId": "d3adf994-1b98-44de-82b9-17f56d468191",
        "colab": {
          "base_uri": "https://localhost:8080/",
          "height": 35
        }
      },
      "source": [
        "v1 = np.array([0, 4])\n",
        "v1"
      ],
      "execution_count": 0,
      "outputs": [
        {
          "output_type": "execute_result",
          "data": {
            "text/plain": [
              "array([0, 4])"
            ]
          },
          "metadata": {
            "tags": []
          },
          "execution_count": 3
        }
      ]
    },
    {
      "cell_type": "code",
      "metadata": {
        "id": "Iw35Fe5fN80b",
        "colab_type": "code",
        "outputId": "463d6570-5bde-4c9b-bb6d-ca6de34f42aa",
        "colab": {
          "base_uri": "https://localhost:8080/",
          "height": 35
        }
      },
      "source": [
        "np.linalg.norm(v1) #linalg - moduł odnoszący się do algebry liniowej, norm - policzy nam normę wektora"
      ],
      "execution_count": 0,
      "outputs": [
        {
          "output_type": "execute_result",
          "data": {
            "text/plain": [
              "4.0"
            ]
          },
          "metadata": {
            "tags": []
          },
          "execution_count": 3
        }
      ]
    },
    {
      "cell_type": "code",
      "metadata": {
        "id": "P7a1ziYNONBm",
        "colab_type": "code",
        "outputId": "a0578c2c-1852-4efd-9359-193342786dee",
        "colab": {
          "base_uri": "https://localhost:8080/",
          "height": 35
        }
      },
      "source": [
        "vs =[-1, 4]\n",
        "np.linalg.norm(vs)"
      ],
      "execution_count": 0,
      "outputs": [
        {
          "output_type": "execute_result",
          "data": {
            "text/plain": [
              "4.123105625617661"
            ]
          },
          "metadata": {
            "tags": []
          },
          "execution_count": 4
        }
      ]
    },
    {
      "cell_type": "code",
      "metadata": {
        "id": "u1hpXCN0OX4r",
        "colab_type": "code",
        "outputId": "d34be63c-8f78-4788-9a99-3982b149d34a",
        "colab": {
          "base_uri": "https://localhost:8080/",
          "height": 35
        }
      },
      "source": [
        "v2 = np.array ([-10, 10, 13]) #przestrzeń R3\n",
        "np.linalg.norm(v2)"
      ],
      "execution_count": 0,
      "outputs": [
        {
          "output_type": "execute_result",
          "data": {
            "text/plain": [
              "19.209372712298546"
            ]
          },
          "metadata": {
            "tags": []
          },
          "execution_count": 5
        }
      ]
    },
    {
      "cell_type": "markdown",
      "metadata": {
        "id": "QZWTELsuOuts",
        "colab_type": "text"
      },
      "source": [
        "# Odległość dwóch pkt. na płaszczyźnie\n",
        "\n",
        "Suma kwadratów różnic pod pierwiastkiem\n",
        "X (x1, x2)  Y(y1, y2)\n",
        "Pierwiastek ((x1-y1)**2 + (x2-y2)**2)"
      ]
    },
    {
      "cell_type": "code",
      "metadata": {
        "id": "vWjSrHjFO5qo",
        "colab_type": "code",
        "outputId": "810b6694-09de-4474-9f27-fd07d2165795",
        "colab": {
          "base_uri": "https://localhost:8080/",
          "height": 35
        }
      },
      "source": [
        "p = np.array([3, 0])\n",
        "q = np.array([0, 4])\n",
        "# (Odleglosc miedzy p i q to norma wektora(p-q))\n",
        "np.linalg.norm(p-q)"
      ],
      "execution_count": 6,
      "outputs": [
        {
          "output_type": "execute_result",
          "data": {
            "text/plain": [
              "5.0"
            ]
          },
          "metadata": {
            "tags": []
          },
          "execution_count": 6
        }
      ]
    },
    {
      "cell_type": "code",
      "metadata": {
        "id": "-vl7CH2XPfAo",
        "colab_type": "code",
        "outputId": "6c03f63d-838a-4814-cfed-c1ac77d57865",
        "colab": {
          "base_uri": "https://localhost:8080/",
          "height": 35
        }
      },
      "source": [
        "#Ręczne liczenie:\n",
        "x = np.sqrt((3-0)**2+(0-4)**2)\n",
        "x"
      ],
      "execution_count": 5,
      "outputs": [
        {
          "output_type": "execute_result",
          "data": {
            "text/plain": [
              "5.0"
            ]
          },
          "metadata": {
            "tags": []
          },
          "execution_count": 5
        }
      ]
    },
    {
      "cell_type": "code",
      "metadata": {
        "id": "6dVnkRQPPzPz",
        "colab_type": "code",
        "outputId": "73bbbcfc-e99e-4f6a-8b05-e54c01f4db3b",
        "colab": {
          "base_uri": "https://localhost:8080/",
          "height": 35
        }
      },
      "source": [
        "a = np.array([3, 0, 1])  #tutaj jest wymiar R3\n",
        "b = np.array ([0, 4, 2])\n",
        "np.linalg.norm(a-b)"
      ],
      "execution_count": 7,
      "outputs": [
        {
          "output_type": "execute_result",
          "data": {
            "text/plain": [
              "5.0990195135927845"
            ]
          },
          "metadata": {
            "tags": []
          },
          "execution_count": 7
        }
      ]
    },
    {
      "cell_type": "markdown",
      "metadata": {
        "id": "2XXK7D-rQGBY",
        "colab_type": "text"
      },
      "source": [
        "# Mnożenie Macierzy\n",
        "A - macierz wymiaru m x n\n",
        "B - macierz wymiaru n x p\n",
        "c - macierz wymiaru m x p\n",
        "\n",
        "Aby móc pomnożyć dwie macierze liczba kolumn w lewej macierzy musi się zgadzać z liczbą wierwszy prawej macierzy. Mnożenie macierzy NIE jest przemienne."
      ]
    },
    {
      "cell_type": "code",
      "metadata": {
        "id": "LU0G7G0_QeJE",
        "colab_type": "code",
        "outputId": "97101d1e-f989-4a69-a635-9afd4b6de10e",
        "colab": {
          "base_uri": "https://localhost:8080/",
          "height": 88
        }
      },
      "source": [
        "X = np.array([[5,3], [3,9]]) #X to macierz 2X2 a Y macierz 2X1. Ich mnożenie da nam macierz 2 x 1. Mnozymy 5x\n",
        "Y = np.array([[1], [-1]])\n",
        "print(X)\n",
        "print(Y)"
      ],
      "execution_count": 9,
      "outputs": [
        {
          "output_type": "stream",
          "text": [
            "[[5 3]\n",
            " [3 9]]\n",
            "[[ 1]\n",
            " [-1]]\n"
          ],
          "name": "stdout"
        }
      ]
    },
    {
      "cell_type": "code",
      "metadata": {
        "id": "CI6qzjPxRW0H",
        "colab_type": "code",
        "outputId": "67445f09-6ce4-4643-ed4e-bf2a29b8dd04",
        "colab": {
          "base_uri": "https://localhost:8080/",
          "height": 52
        }
      },
      "source": [
        "Z = np.dot(X, Y)\n",
        "Z"
      ],
      "execution_count": 10,
      "outputs": [
        {
          "output_type": "execute_result",
          "data": {
            "text/plain": [
              "array([[ 2],\n",
              "       [-6]])"
            ]
          },
          "metadata": {
            "tags": []
          },
          "execution_count": 10
        }
      ]
    },
    {
      "cell_type": "code",
      "metadata": {
        "id": "0ToR-rvNReFt",
        "colab_type": "code",
        "outputId": "9e49c591-605c-4d31-ce12-d7cf9918997f",
        "colab": {
          "base_uri": "https://localhost:8080/",
          "height": 203
        }
      },
      "source": [
        "Z = np.dot(Y,X) #błąd bo wymiary się nie zgadzają! Mnożenie macierzy nieprzemienne."
      ],
      "execution_count": 11,
      "outputs": [
        {
          "output_type": "error",
          "ename": "ValueError",
          "evalue": "ignored",
          "traceback": [
            "\u001b[0;31m---------------------------------------------------------------------------\u001b[0m",
            "\u001b[0;31mValueError\u001b[0m                                Traceback (most recent call last)",
            "\u001b[0;32m<ipython-input-11-d82f3a20ae94>\u001b[0m in \u001b[0;36m<module>\u001b[0;34m()\u001b[0m\n\u001b[0;32m----> 1\u001b[0;31m \u001b[0mZ\u001b[0m \u001b[0;34m=\u001b[0m \u001b[0mnp\u001b[0m\u001b[0;34m.\u001b[0m\u001b[0mdot\u001b[0m\u001b[0;34m(\u001b[0m\u001b[0mY\u001b[0m\u001b[0;34m,\u001b[0m\u001b[0mX\u001b[0m\u001b[0;34m)\u001b[0m \u001b[0;31m#błąd bo wymiary się nie zgadzają! Mnożenie macierzy nieprzemienne.\u001b[0m\u001b[0;34m\u001b[0m\u001b[0;34m\u001b[0m\u001b[0m\n\u001b[0m",
            "\u001b[0;32m<__array_function__ internals>\u001b[0m in \u001b[0;36mdot\u001b[0;34m(*args, **kwargs)\u001b[0m\n",
            "\u001b[0;31mValueError\u001b[0m: shapes (2,1) and (2,2) not aligned: 1 (dim 1) != 2 (dim 0)"
          ]
        }
      ]
    },
    {
      "cell_type": "code",
      "metadata": {
        "id": "jPovOWM0RmdH",
        "colab_type": "code",
        "colab": {
          "base_uri": "https://localhost:8080/",
          "height": 177
        },
        "outputId": "e011571e-ddfe-4af6-9dde-cf301aa8cd08"
      },
      "source": [
        "X1 = np.array([[5, 3, 3], [3, 5, 3], [3, 3, 2]])\n",
        "print(X1, '\\n')\n",
        "Y1 = np.array ([[1, 1, 1], [2, 2, 2]])\n",
        "print(Y1, '\\n')\n",
        "Z = np.dot(Y1,X1)\n",
        "print(Z)"
      ],
      "execution_count": 18,
      "outputs": [
        {
          "output_type": "stream",
          "text": [
            "[[5 3 3]\n",
            " [3 5 3]\n",
            " [3 3 2]] \n",
            "\n",
            "[[1 1 1]\n",
            " [2 2 2]] \n",
            "\n",
            "[[11 11  8]\n",
            " [22 22 16]]\n"
          ],
          "name": "stdout"
        }
      ]
    },
    {
      "cell_type": "markdown",
      "metadata": {
        "id": "wEM_s4fMRjxo",
        "colab_type": "text"
      },
      "source": [
        "\n",
        "# Wyznacznik, Macierz jednostkowa, odwrotna i transponowana\n"
      ]
    },
    {
      "cell_type": "code",
      "metadata": {
        "id": "tntJcebrRtK1",
        "colab_type": "code",
        "colab": {
          "base_uri": "https://localhost:8080/",
          "height": 35
        },
        "outputId": "f360a068-f16e-4bda-e6ac-41dc513a2f58"
      },
      "source": [
        "#Wyznacznik macierzy  A = det A\n",
        "# Liczenie poszcze\n",
        "# A = [a11  a12\n",
        "#      a21 a22 ]\n",
        "# det A = a11a22 - a12a21 \n",
        "# A = [ 2  2\n",
        "#      10 12]\n",
        "#det A = 24 - 20 = 4\n",
        "\n",
        "A = np.array([[2, 4], [-1, 3]])\n",
        "round(np.linalg.det(A))"
      ],
      "execution_count": 21,
      "outputs": [
        {
          "output_type": "execute_result",
          "data": {
            "text/plain": [
              "10.0"
            ]
          },
          "metadata": {
            "tags": []
          },
          "execution_count": 21
        }
      ]
    },
    {
      "cell_type": "code",
      "metadata": {
        "id": "8CmSScXPStJQ",
        "colab_type": "code",
        "colab": {
          "base_uri": "https://localhost:8080/",
          "height": 35
        },
        "outputId": "5317cd64-f5c6-4319-c809-148b1cc095b4"
      },
      "source": [
        "#Ślad macierzy -> suma po przekątnej\n",
        "\n",
        "A = np.array([[2, 4], [-1, 3]])\n",
        "np.trace(A)"
      ],
      "execution_count": 23,
      "outputs": [
        {
          "output_type": "execute_result",
          "data": {
            "text/plain": [
              "5"
            ]
          },
          "metadata": {
            "tags": []
          },
          "execution_count": 23
        }
      ]
    },
    {
      "cell_type": "markdown",
      "metadata": {
        "id": "U1Led9GuTgaw",
        "colab_type": "text"
      },
      "source": [
        "Macierz jednostkowa - macierz kwadratowa, której współczynniki podane są wzorem aij = 1 dla i =j, 0 dla i != j\n",
        "\n",
        "np. I = [1], lub I = [1, 0]\n",
        "                     [0, 1]\n",
        "I = [1 0 0\n",
        "     0 1 0\n",
        "     0 0 1]\n",
        "  "
      ]
    },
    {
      "cell_type": "code",
      "metadata": {
        "id": "rtPhkXb4T4-B",
        "colab_type": "code",
        "colab": {
          "base_uri": "https://localhost:8080/",
          "height": 141
        },
        "outputId": "ecfc2893-347b-40e6-8451-27a28fa1a036"
      },
      "source": [
        "A = np.eye(3, dtype ='int')\n",
        "B = np.eye(5, dtype ='float')\n",
        "print(A,B)"
      ],
      "execution_count": 34,
      "outputs": [
        {
          "output_type": "stream",
          "text": [
            "[[1 0 0]\n",
            " [0 1 0]\n",
            " [0 0 1]] [[1. 0. 0. 0. 0.]\n",
            " [0. 1. 0. 0. 0.]\n",
            " [0. 0. 1. 0. 0.]\n",
            " [0. 0. 0. 1. 0.]\n",
            " [0. 0. 0. 0. 1.]]\n"
          ],
          "name": "stdout"
        }
      ]
    },
    {
      "cell_type": "code",
      "metadata": {
        "id": "gHQcHsYsUZvc",
        "colab_type": "code",
        "colab": {
          "base_uri": "https://localhost:8080/",
          "height": 124
        },
        "outputId": "1ee8970a-8203-42d6-f9ee-2669dc0d7f7b"
      },
      "source": [
        "#Macierz odwrotna - A - macierz kwadratowa stopnia n. Macierz A posiada macierze odwrotną, gdy istnieje macierz B, taka, żę AB = BA = I\n",
        "#Macierze inne niż kwadratowe, nie mają macierzy odwrotnych!!!\n",
        "A = np.array([[2,4],[-1,3]])\n",
        "print(A)\n",
        "#Liczenie macierzy odwrotnej \n",
        "B = np.linalg.inv(A)\n",
        "print(B)\n",
        "#sprawdzenie - mnożąc AB dostaniemy macierz jednostkowa\n",
        "np.set_printoptions(precision = 4, suppress = True)\n",
        "C = np.dot(A,B)\n",
        "print(C)"
      ],
      "execution_count": 47,
      "outputs": [
        {
          "output_type": "stream",
          "text": [
            "[[ 2  4]\n",
            " [-1  3]]\n",
            "[[ 0.3 -0.4]\n",
            " [ 0.1  0.2]]\n",
            "[[1. 0.]\n",
            " [0. 1.]]\n"
          ],
          "name": "stdout"
        }
      ]
    },
    {
      "cell_type": "code",
      "metadata": {
        "id": "E1wYX8weUZlv",
        "colab_type": "code",
        "colab": {
          "base_uri": "https://localhost:8080/",
          "height": 106
        },
        "outputId": "9d4d43fb-2844-4993-979f-db2cc11366be"
      },
      "source": [
        "#Macierz transponowana - Zamiana wierszy na kolumny\n",
        "# Macierz 2x3 po transponowaniu jest 3x2\n",
        "#Przykład w bibliotece Numpy:\n",
        "A = np.array([[2,4],[-1,3]])\n",
        "np.transpose(A)\n",
        "#ALBO:\n",
        "X = A.T\n",
        "print(A, '\\n')\n",
        "print(X)"
      ],
      "execution_count": 57,
      "outputs": [
        {
          "output_type": "stream",
          "text": [
            "[[ 2  4]\n",
            " [-1  3]] \n",
            "\n",
            "[[ 2 -1]\n",
            " [ 4  3]]\n"
          ],
          "name": "stdout"
        }
      ]
    },
    {
      "cell_type": "markdown",
      "metadata": {
        "id": "xiHX23bQt_wR",
        "colab_type": "text"
      },
      "source": [
        "# Rozwiązywanie układów równań\n",
        "\n"
      ]
    },
    {
      "cell_type": "code",
      "metadata": {
        "id": "t7_mbMeduFVf",
        "colab_type": "code",
        "colab": {
          "base_uri": "https://localhost:8080/",
          "height": 35
        },
        "outputId": "68be8f5f-337f-4720-eb7e-925784e1ce62"
      },
      "source": [
        "# możemy zapisać układ równań w formie macierzy współczynników (A), wektory wyrazów wolnych (B) i wektory niewiadomych. (X) GDZIE:\n",
        "# AX = B\n",
        "# A**-1 AX = A**-1B\n",
        "# X = A**-1B\n",
        "\n",
        "#Przykład\n",
        "#UKŁAD MA POSTAĆ:  2x +4y = 10,  x-y = - 1\n",
        "# Ręcznie to byłoby \n",
        "\n",
        "A = np.array([[2,4],[1,-1]])\n",
        "B = np.array([10, -1])\n",
        "A_inv = np.linalg.inv(A)\n",
        "X = np.dot(A_inv, B)\n",
        "X\n",
        "#X to macierz z rozwiązaniam danego układu równań\n"
      ],
      "execution_count": 65,
      "outputs": [
        {
          "output_type": "execute_result",
          "data": {
            "text/plain": [
              "array([1., 2.])"
            ]
          },
          "metadata": {
            "tags": []
          },
          "execution_count": 65
        }
      ]
    },
    {
      "cell_type": "code",
      "metadata": {
        "id": "_qr7Y01WvqQF",
        "colab_type": "code",
        "colab": {}
      },
      "source": [
        ""
      ],
      "execution_count": 0,
      "outputs": []
    },
    {
      "cell_type": "markdown",
      "metadata": {
        "id": "0P0Cpngxv6za",
        "colab_type": "text"
      },
      "source": [
        "# Funckje Statystyczne w NumPy\n"
      ]
    },
    {
      "cell_type": "code",
      "metadata": {
        "id": "bWQ-lX2SwBps",
        "colab_type": "code",
        "colab": {
          "base_uri": "https://localhost:8080/",
          "height": 35
        },
        "outputId": "fcec295d-c48c-4cd8-cf9c-f48f19635753"
      },
      "source": [
        "import numpy as np\n",
        "np.__version__"
      ],
      "execution_count": 66,
      "outputs": [
        {
          "output_type": "execute_result",
          "data": {
            "text/plain": [
              "'1.18.3'"
            ]
          },
          "metadata": {
            "tags": []
          },
          "execution_count": 66
        }
      ]
    },
    {
      "cell_type": "code",
      "metadata": {
        "id": "Dt6Dw31SwPfM",
        "colab_type": "code",
        "colab": {
          "base_uri": "https://localhost:8080/",
          "height": 70
        },
        "outputId": "632a58c5-f067-424b-d7a2-b4ce93a227ee"
      },
      "source": [
        "price = np.array ([[12.4, 12.8, 11.9, 12.6, 1000],\n",
        "                   [12.5, 13.0, 11.7, 12.2, 2000],\n",
        "                   [12.2, 13.4, 12.2, 13.2, 1500]])\n",
        "print(price)"
      ],
      "execution_count": 68,
      "outputs": [
        {
          "output_type": "stream",
          "text": [
            "[[  12.4   12.8   11.9   12.6 1000. ]\n",
            " [  12.5   13.    11.7   12.2 2000. ]\n",
            " [  12.2   13.4   12.2   13.2 1500. ]]\n"
          ],
          "name": "stdout"
        }
      ]
    },
    {
      "cell_type": "code",
      "metadata": {
        "id": "szK6u2lLw5XQ",
        "colab_type": "code",
        "colab": {
          "base_uri": "https://localhost:8080/",
          "height": 35
        },
        "outputId": "e0c076eb-1909-4c0b-d444-e74065caf65f"
      },
      "source": [
        "price.sum() #suma wszystkich liczb w macierzy\n"
      ],
      "execution_count": 69,
      "outputs": [
        {
          "output_type": "execute_result",
          "data": {
            "text/plain": [
              "4650.1"
            ]
          },
          "metadata": {
            "tags": []
          },
          "execution_count": 69
        }
      ]
    },
    {
      "cell_type": "code",
      "metadata": {
        "id": "8wXK9rsBxGDu",
        "colab_type": "code",
        "colab": {
          "base_uri": "https://localhost:8080/",
          "height": 35
        },
        "outputId": "7f06770e-2a2e-4d57-d042-1ba0b83c1691"
      },
      "source": [
        "# po której osi liczymy\n",
        "price.sum(axis = 0) #suma poszczególnych kolumn"
      ],
      "execution_count": 72,
      "outputs": [
        {
          "output_type": "execute_result",
          "data": {
            "text/plain": [
              "array([  37.1,   39.2,   35.8,   38. , 4500. ])"
            ]
          },
          "metadata": {
            "tags": []
          },
          "execution_count": 72
        }
      ]
    },
    {
      "cell_type": "code",
      "metadata": {
        "id": "dEqY8EicxM_c",
        "colab_type": "code",
        "colab": {
          "base_uri": "https://localhost:8080/",
          "height": 35
        },
        "outputId": "eead053e-3fc8-4ef1-9a24-e36da9ba0340"
      },
      "source": [
        "price.sum(axis= 1) #suma poszczególnych wierszy"
      ],
      "execution_count": 71,
      "outputs": [
        {
          "output_type": "execute_result",
          "data": {
            "text/plain": [
              "array([1049.7, 2049.4, 1551. ])"
            ]
          },
          "metadata": {
            "tags": []
          },
          "execution_count": 71
        }
      ]
    },
    {
      "cell_type": "code",
      "metadata": {
        "id": "WxgWC7gZxXIk",
        "colab_type": "code",
        "colab": {
          "base_uri": "https://localhost:8080/",
          "height": 35
        },
        "outputId": "4de23776-9939-4b44-d5c3-2c8ca49e8b5f"
      },
      "source": [
        "np.min(price) #minimum z całej tablicy"
      ],
      "execution_count": 73,
      "outputs": [
        {
          "output_type": "execute_result",
          "data": {
            "text/plain": [
              "11.7"
            ]
          },
          "metadata": {
            "tags": []
          },
          "execution_count": 73
        }
      ]
    },
    {
      "cell_type": "code",
      "metadata": {
        "id": "VqzZwgdCxbY2",
        "colab_type": "code",
        "colab": {
          "base_uri": "https://localhost:8080/",
          "height": 35
        },
        "outputId": "873a3739-be73-40e0-e80a-a368d5112c06"
      },
      "source": [
        "np.min(price, axis=0) #najmniejszy wiersz"
      ],
      "execution_count": 75,
      "outputs": [
        {
          "output_type": "execute_result",
          "data": {
            "text/plain": [
              "array([  12.2,   12.8,   11.7,   12.2, 1000. ])"
            ]
          },
          "metadata": {
            "tags": []
          },
          "execution_count": 75
        }
      ]
    },
    {
      "cell_type": "code",
      "metadata": {
        "id": "bptJHph4xl5G",
        "colab_type": "code",
        "colab": {
          "base_uri": "https://localhost:8080/",
          "height": 35
        },
        "outputId": "ddd90fdf-90db-48d2-b48b-3cd32922a927"
      },
      "source": [
        "np.median(price\n",
        "          )"
      ],
      "execution_count": 76,
      "outputs": [
        {
          "output_type": "execute_result",
          "data": {
            "text/plain": [
              "12.6"
            ]
          },
          "metadata": {
            "tags": []
          },
          "execution_count": 76
        }
      ]
    },
    {
      "cell_type": "code",
      "metadata": {
        "id": "q3UbfoDsxq-O",
        "colab_type": "code",
        "colab": {
          "base_uri": "https://localhost:8080/",
          "height": 35
        },
        "outputId": "0f2ab72f-fa31-4c74-8489-b645519e1bee"
      },
      "source": [
        "np.mean(price, axis=0)"
      ],
      "execution_count": 78,
      "outputs": [
        {
          "output_type": "execute_result",
          "data": {
            "text/plain": [
              "array([  12.3667,   13.0667,   11.9333,   12.6667, 1500.    ])"
            ]
          },
          "metadata": {
            "tags": []
          },
          "execution_count": 78
        }
      ]
    },
    {
      "cell_type": "code",
      "metadata": {
        "id": "je8OaNryxwN5",
        "colab_type": "code",
        "colab": {
          "base_uri": "https://localhost:8080/",
          "height": 35
        },
        "outputId": "e8dab359-5ad0-42f2-b182-6bd03f85cbcc"
      },
      "source": [
        "np.std(price, axis=0) #odchylenie standardowe poszczególnych kolumn"
      ],
      "execution_count": 79,
      "outputs": [
        {
          "output_type": "execute_result",
          "data": {
            "text/plain": [
              "array([  0.1247,   0.2494,   0.2055,   0.411 , 408.2483])"
            ]
          },
          "metadata": {
            "tags": []
          },
          "execution_count": 79
        }
      ]
    },
    {
      "cell_type": "code",
      "metadata": {
        "id": "9sHQgHOYx2v1",
        "colab_type": "code",
        "colab": {
          "base_uri": "https://localhost:8080/",
          "height": 35
        },
        "outputId": "f047c56d-9de0-4ccc-9e52-d7b8593378e9"
      },
      "source": [
        "np.var(price, axis=0) #wariancja poszczególnych kolumn"
      ],
      "execution_count": 81,
      "outputs": [
        {
          "output_type": "execute_result",
          "data": {
            "text/plain": [
              "array([     0.0156,      0.0622,      0.0422,      0.1689, 166666.6667])"
            ]
          },
          "metadata": {
            "tags": []
          },
          "execution_count": 81
        }
      ]
    }
  ]
}